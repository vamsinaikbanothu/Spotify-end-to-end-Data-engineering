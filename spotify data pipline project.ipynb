import json
import boto3
import pandas as pd
from datetime import datetime
from io import StringIO

def album(data):
    album_list = []
    for row in data['items']:
        album_id = row['track']['album']['id']
        album_name = row['track']['album']['name']
        album_release_date = row['track']['album']['release_date']
        album_total_tracks = row['track']['album']['total_tracks']
        album_elements = {'album_id': album_id, 'album_name': album_name, 'album_release_date': album_release_date}
        album_list.append(album_elements)
    return album_list

def song(data):
    song_list = []
    for row in data['items']:
        song_id = row['track']['id']
        song_name = row['track']['name']
        song_duration = row['track']['duration_ms']
        song_elements = {'song_id': song_id, 'song_name': song_name, 'song_duration': song_duration}
        song_list.append(song_elements)
    return song_list

def artist(data):
    artist_list = []
    for row in data['items']:
        for key, value in row.items():
            if key == "track":
                for artist in value['artists']:
                    artist_dict = {'artist_id':artist['id'], 'artist_name':artist['name'], 'external_url': artist['href']}
                    artist_list.append(artist_dict)
    return artist_list 
        
def lambda_handler(event, context):
    s3 = boto3.client('s3')
    bucket = 'spotify-etl-project-bvn'
    key = 'raw_data/to_processed/'

    spotify_data = []
    spotify_data_keys = []

    for file in s3.list_objects(Bucket = bucket, Prefix = key)['Contents']:
        file_key = file['Key']
        if file_key.endswith('.json'):
            response = s3.get_object(Bucket = bucket, Key = file_key)
            content = response['Body']
            jsonobject = json.loads(content.read())
            spotify_data.append(jsonobject)
            spotify_data_keys.append(file_key)

    for data in spotify_data:
        album_list = album(data)
        song_list = song(data)
        artist_list = artist(data)

        album_df = pd.DataFrame.from_dict(album_list)
        album_release_date = pd.to_datetime(album_df['album_release_date'])                

        song_df = pd.DataFrame.from_dict(song_list)            

        artist_df = pd.DataFrame.from_dict(artist_list)
                
        song_key = "transformed_data/songs_data/songs_transformed_"+str(datetime.now())+'.csv'
        song_buffer = StringIO()
        song_df.to_csv(song_buffer, index = False)
        song_content = song_buffer.getvalue()
        s3.put_object(Bucket = bucket, Key = song_key, Body = song_content)

        album_key = 'transformed_data/album_data/album_transformed_'+str(datetime.now())+'.csv'
        album_buffer = StringIO()
        album_df.to_csv(album_buffer, index = False)
        album_content = album_buffer.getvalue()
        s3.put_object(Bucket = bucket, Key = album_key, Body = album_content)

        artist_key = 'transformed_data/artists_data/artist_transformed_'+str(datetime.now())+'.csv'
        artist_buffer = StringIO()
        artist_df.to_csv(artist_buffer, index = False)
        artist_content = artist_buffer.getvalue()
        s3.put_object(Bucket = bucket, Key =artist_key, Body = artist_content)


    s3_resource = boto3.resource('s3')
    for key in spotify_data_keys:
        copy_source = {'Bucket': bucket,'Key': key}
        s3_resource.meta.client.copy(copy_source, bucket, 'raw_data/processed/' + key.split("/")[-1])    
        s3_resource.Object(bucket, key).delete()
